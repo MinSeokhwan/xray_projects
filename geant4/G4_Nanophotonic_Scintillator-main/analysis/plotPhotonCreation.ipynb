{
 "cells": [
  {
   "cell_type": "code",
   "execution_count": null,
   "metadata": {},
   "outputs": [],
   "source": [
    "import pandas as pd\n",
    "import uproot\n",
    "import numpy as np\n",
    "\n",
    "# reading root file\n",
    "root_file = uproot.open('../build/output0.root')\n",
    "photons = root_file[\"Photons\"]"
   ]
  },
  {
   "cell_type": "code",
   "execution_count": null,
   "metadata": {},
   "outputs": [],
   "source": [
    "# Considering only optical photons\n",
    "photonType = [t for t in photons[\"fType\"].array()]\n",
    "processType = [t for t in photons[\"fProcess\"].array()]\n",
    "# status = [t for t in photons[\"fStepStatusNumber\"].array()]\n",
    "# processType2 = [t for t in photons[\"fProcessType\"].array()]\n",
    "# subSrocessType = [t for t in photons[\"fSubProcessType\"].array()]\n",
    "creatorProcess = [t for t in photons[\"fCreatorProcess\"].array()]\n",
    "trackID = [t for t in photons[\"ftrackID\"].array()]\n",
    "parentTrackID = [t for t in photons[\"fParentTrackID\"].array()]\n",
    "material = [t for t in photons[\"fMaterial\"].array()]\n",
    "relevant_ind = [t == 'Scintillation' for t in creatorProcess]\n",
    "photonsX = np.array(photons[\"fX\"].array())[relevant_ind]\n",
    "photonsY = np.array(photons[\"fY\"].array())[relevant_ind]\n",
    "photonsZ = np.array(photons[\"fZ\"].array())[relevant_ind]\n",
    "\n",
    "trackToParticle_dict = {}\n",
    "for particle, t_id in zip(photonType, trackID):\n",
    "    trackToParticle_dict[t_id] = particle\n",
    "parentParticle = [trackToParticle_dict[t_id] if t_id in trackID else \"none\" for t_id in parentTrackID]\n",
    "\n",
    "def compute_hist(l):\n",
    "    d = {}\n",
    "    for t in l:\n",
    "        if t not in d:\n",
    "            d[t] = 1\n",
    "        else:\n",
    "            d[t] += 1\n",
    "    return d\n",
    "\n",
    "jointDict = compute_hist([p1 + ', ' + p2 + ', ' + str(p3) + ', ' + str(p4) + ', ' + str(p5)\n",
    "                          for (((p1,p2), p3), p4), p5 in zip(zip(zip(zip(photonType, processType), material), parentParticle), creatorProcess)])\n",
    "print(\"particle\\tproces\\t\\tmaterial\\tparentPar\\tcreatorProc\\tnum events\\n\")\n",
    "for key, item in jointDict.items():\n",
    "    line = '\\t\\t'.join([k[:6] for k in key.split(', ')]) + '\\t\\t' + str(item)\n",
    "    print(line)"
   ]
  },
  {
   "cell_type": "code",
   "execution_count": null,
   "metadata": {},
   "outputs": [],
   "source": [
    "# Plot absorption as a function of the depth\n",
    "%matplotlib widget\n",
    "import numpy as np\n",
    "import matplotlib.pyplot as plt\n",
    "from matplotlib import cm\n",
    "fig = plt.figure()\n",
    "ax = fig.add_subplot(111)\n",
    "\n",
    "ax.hist(photonsZ*1e6, bins=int(np.sqrt(len(photonsZ))))\n",
    "\n",
    "ax.set_xlabel('Z [nm]')\n",
    "ax.set_ylabel('# of photons created')\n",
    "ax.set_title('Histogram of photons depth creation')\n",
    "plt.show()"
   ]
  },
  {
   "cell_type": "code",
   "execution_count": null,
   "metadata": {},
   "outputs": [],
   "source": [
    "from scipy.stats import gaussian_kde\n",
    "import multiprocessing\n",
    "import os\n",
    "os.environ['DISPLAY'] = 'localhost:10.0'\n",
    "\n",
    "def calc_kde(data):\n",
    "    return kde(data.T)\n",
    "\n",
    "# Calculate kernel density estimation\n",
    "photonsX_kde, photonsY_kde, photonsZ_kde = photonsX*1e6, photonsY*1e6, photonsZ*1e6\n",
    "kde = gaussian_kde(np.row_stack((photonsX_kde, photonsY_kde, photonsZ_kde)))\n",
    "\n",
    "# Evaluate kde on a grid\n",
    "grid_size = 30j\n",
    "factor = 30\n",
    "xmin, ymin, zmin = photonsX_kde.min()/factor, photonsY_kde.min()/factor, photonsZ_kde.min()\n",
    "xmax, ymax, zmax = photonsX_kde.max()/factor, photonsY_kde.max()/factor, photonsZ_kde.max()\n",
    "xi, yi, zi = np.mgrid[xmin:xmax:grid_size, ymin:ymax:grid_size, zmin:zmax:grid_size]\n",
    "coords = np.vstack([item.ravel() for item in [xi, yi, zi]]) \n",
    "\n",
    "# Multiprocessing\n",
    "cores = multiprocessing.cpu_count()\n",
    "pool = multiprocessing.Pool(processes=cores)\n",
    "results = pool.map(calc_kde, np.array_split(coords.T, 2))\n",
    "density = np.concatenate(results).reshape(xi.shape)"
   ]
  },
  {
   "cell_type": "code",
   "execution_count": null,
   "metadata": {},
   "outputs": [],
   "source": [
    "# Plot scatter with mayavi\n",
    "from mayavi import mlab\n",
    "figure = mlab.figure('DensityPlot', bgcolor=(1,1,1), fgcolor=(0,0,0))\n",
    "\n",
    "grid = mlab.pipeline.scalar_field(xi, yi, zi, density)\n",
    "mlab.pipeline.volume(grid, vmin=density.min() + .5*(density.max()-density.min()), vmax=density.min() + .9*(density.max()-density.min()))\n",
    "\n",
    "mlab.axes()\n",
    "mlab.show()"
   ]
  },
  {
   "cell_type": "code",
   "execution_count": null,
   "metadata": {},
   "outputs": [],
   "source": [
    "import os\n",
    "os.environ['DISPLAY'] = 'localhost:10.0'\n",
    "# Create a 3D plot\n",
    "fig = plt.figure()\n",
    "ax = fig.add_subplot(111, projection='3d')\n",
    "\n",
    "# Set the transparency as a function of density\n",
    "alpha = ((density - density.min()) / (density.max() - density.min()))**100\n",
    "\n",
    "# Scatter plot the points with color based on density\n",
    "ax.scatter(xi, yi, zi, c=density.flatten(), alpha=alpha.flatten(), cmap=cm.coolwarm)\n",
    "\n",
    "ax.set_xlabel('X')\n",
    "ax.set_ylabel('Y')\n",
    "ax.set_zlabel('Z')\n",
    "ax.set_title('Density of Photon Creation')\n",
    "plt.show()"
   ]
  }
 ],
 "metadata": {
  "kernelspec": {
   "display_name": "Python 3",
   "language": "python",
   "name": "python3"
  },
  "language_info": {
   "codemirror_mode": {
    "name": "ipython",
    "version": 3
   },
   "file_extension": ".py",
   "mimetype": "text/x-python",
   "name": "python",
   "nbconvert_exporter": "python",
   "pygments_lexer": "ipython3",
   "version": "3.11.4"
  },
  "orig_nbformat": 4
 },
 "nbformat": 4,
 "nbformat_minor": 2
}
